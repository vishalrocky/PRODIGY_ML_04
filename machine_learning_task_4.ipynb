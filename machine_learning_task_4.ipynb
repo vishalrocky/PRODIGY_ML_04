{
  "nbformat": 4,
  "nbformat_minor": 0,
  "metadata": {
    "colab": {
      "provenance": [],
      "authorship_tag": "ABX9TyPS5ld2KQ7UBNbOWJDt+pz1",
      "include_colab_link": true
    },
    "kernelspec": {
      "name": "python3",
      "display_name": "Python 3"
    },
    "language_info": {
      "name": "python"
    }
  },
  "cells": [
    {
      "cell_type": "markdown",
      "metadata": {
        "id": "view-in-github",
        "colab_type": "text"
      },
      "source": [
        "<a href=\"https://colab.research.google.com/github/vishalrocky/PRODIGY_ML_04/blob/main/machine_learning_task_4.ipynb\" target=\"_parent\"><img src=\"https://colab.research.google.com/assets/colab-badge.svg\" alt=\"Open In Colab\"/></a>"
      ]
    },
    {
      "cell_type": "markdown",
      "source": [
        "Machine learning task 4:\n",
        "  Develop a hand gesture recognition model that can accurately identify and classify different hand gestures from image or video data, enabling intuitive human-computer interaction and gesture-based control systems."
      ],
      "metadata": {
        "id": "CBSFNRPXrD1N"
      }
    },
    {
      "cell_type": "code",
      "execution_count": null,
      "metadata": {
        "colab": {
          "base_uri": "https://localhost:8080/"
        },
        "id": "Z4ZYNKIIq-gQ",
        "outputId": "1ea7bcb3-a365-4370-c2df-858281b257e4"
      },
      "outputs": [
        {
          "output_type": "stream",
          "name": "stdout",
          "text": [
            "Downloading data from https://storage.googleapis.com/tensorflow/tf-keras-datasets/mnist.npz\n",
            "11490434/11490434 [==============================] - 1s 0us/step\n",
            "Epoch 1/10\n",
            "469/469 [==============================] - 61s 126ms/step - loss: 0.2343 - accuracy: 0.9327 - val_loss: 0.0654 - val_accuracy: 0.9798\n",
            "Epoch 2/10\n",
            "469/469 [==============================] - 50s 108ms/step - loss: 0.0621 - accuracy: 0.9814 - val_loss: 0.0545 - val_accuracy: 0.9820\n",
            "Epoch 3/10\n",
            "469/469 [==============================] - 48s 102ms/step - loss: 0.0442 - accuracy: 0.9867 - val_loss: 0.0396 - val_accuracy: 0.9871\n",
            "Epoch 4/10\n",
            "469/469 [==============================] - 48s 102ms/step - loss: 0.0335 - accuracy: 0.9901 - val_loss: 0.0384 - val_accuracy: 0.9881\n",
            "Epoch 5/10\n",
            "469/469 [==============================] - 48s 101ms/step - loss: 0.0269 - accuracy: 0.9922 - val_loss: 0.0331 - val_accuracy: 0.9881\n",
            "Epoch 6/10\n",
            "469/469 [==============================] - 48s 102ms/step - loss: 0.0216 - accuracy: 0.9932 - val_loss: 0.0440 - val_accuracy: 0.9864\n",
            "Epoch 7/10\n",
            "469/469 [==============================] - 49s 105ms/step - loss: 0.0185 - accuracy: 0.9941 - val_loss: 0.0375 - val_accuracy: 0.9890\n",
            "Epoch 8/10\n",
            "469/469 [==============================] - 48s 102ms/step - loss: 0.0161 - accuracy: 0.9946 - val_loss: 0.0269 - val_accuracy: 0.9912\n",
            "Epoch 9/10\n",
            "469/469 [==============================] - 47s 100ms/step - loss: 0.0119 - accuracy: 0.9961 - val_loss: 0.0308 - val_accuracy: 0.9905\n",
            "Epoch 10/10\n",
            "469/469 [==============================] - 50s 108ms/step - loss: 0.0101 - accuracy: 0.9968 - val_loss: 0.0301 - val_accuracy: 0.9908\n",
            "Test loss: 0.030062368139624596\n",
            "Test accuracy: 0.9908000230789185\n"
          ]
        }
      ],
      "source": [
        "import tensorflow as tf\n",
        "from tensorflow.keras.models import Sequential\n",
        "from tensorflow.keras.layers import Conv2D, MaxPooling2D, Flatten, Dense\n",
        "import cv2\n",
        "import numpy as np\n",
        "\n",
        "# Load the dataset\n",
        "(x_train, y_train), (x_test, y_test) = tf.keras.datasets.mnist.load_data()\n",
        "\n",
        "# Preprocess the data\n",
        "x_train = x_train.reshape(-1, 28, 28, 1)\n",
        "x_test = x_test.reshape(-1, 28, 28, 1)\n",
        "x_train = x_train.astype('float32') / 255\n",
        "x_test = x_test.astype('float32') / 255\n",
        "y_train = tf.keras.utils.to_categorical(y_train, 10)\n",
        "y_test = tf.keras.utils.to_categorical(y_test, 10)\n",
        "\n",
        "# Define the model architecture\n",
        "model = Sequential()\n",
        "model.add(Conv2D(32, kernel_size=(3, 3), activation='relu', input_shape=(28, 28, 1)))\n",
        "model.add(MaxPooling2D(pool_size=(2, 2)))\n",
        "model.add(Conv2D(64, kernel_size=(3, 3), activation='relu'))\n",
        "model.add(MaxPooling2D(pool_size=(2, 2)))\n",
        "model.add(Flatten())\n",
        "model.add(Dense(64, activation='relu'))\n",
        "model.add(Dense(10, activation='softmax'))\n",
        "\n",
        "# Compile the model\n",
        "model.compile(loss=tf.keras.losses.categorical_crossentropy,\n",
        "              optimizer=tf.keras.optimizers.Adam(),\n",
        "              metrics=['accuracy'])\n",
        "\n",
        "# Train the model\n",
        "model.fit(x_train, y_train,\n",
        "          batch_size=128,\n",
        "          epochs=10,\n",
        "          verbose=1,\n",
        "          validation_data=(x_test, y_test))\n",
        "\n",
        "# Test the model\n",
        "score = model.evaluate(x_test, y_test, verbose=0)\n",
        "print('Test loss:', score[0])\n",
        "print('Test accuracy:', score[1])\n",
        "\n",
        "# Real-time testing using a webcam\n",
        "def real_time_test():\n",
        "    cap = cv2.VideoCapture(0)\n",
        "    while True:\n",
        "        ret, frame = cap.read()\n",
        "        if not ret:\n",
        "            break\n",
        "        frame = cv2.resize(frame, (28, 28))\n",
        "        frame = cv2.cvtColor(frame, cv2.COLOR_BGR2GRAY)\n",
        "        frame = np.expand_dims(frame, axis=-1)\n",
        "        frame = frame.astype('float32') / 255\n",
        "        frame = np.expand_dims(frame, axis=0)\n",
        "        prediction = model.predict(frame)\n",
        "        predicted_class = np.argmax(prediction)\n",
        "        cv2.putText(frame, str(predicted_class), (10, 30), cv2.FONT_HERSHEY_SIMPLEX, 1, (0, 255, 0), 2)\n",
        "        cv2.imshow('Hand Gesture Recognition', frame)\n",
        "        if cv2.waitKey(1) & 0xFF == ord('q'):\n",
        "            break\n",
        "    cap.release()\n",
        "    cv2.destroyAllWindows()\n",
        "\n",
        "real_time_test()"
      ]
    }
  ]
}